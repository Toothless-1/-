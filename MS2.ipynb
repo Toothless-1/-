{
 "cells": [
  {
   "cell_type": "code",
   "execution_count": 1,
   "id": "b6f623e7-6298-4eaa-9dde-90c1dfaf1556",
   "metadata": {},
   "outputs": [],
   "source": [
    "import numpy as np"
   ]
  },
  {
   "cell_type": "code",
   "execution_count": 2,
   "id": "295b0780-161e-4bda-bd98-c737a081fac1",
   "metadata": {},
   "outputs": [],
   "source": [
    "def var_mean(x):\n",
    "    return 1/len(x)*sum(x)\n",
    "def var_std(x):\n",
    "    return np.sqrt(1/(len(x)-1)*np.sum((x-var_mean(x))**2))"
   ]
  },
  {
   "cell_type": "code",
   "execution_count": 3,
   "id": "2be79993-ac4f-487d-9036-cca3540b600e",
   "metadata": {},
   "outputs": [],
   "source": [
    "with open(\"prac2/1.txt\",'r') as file1:\n",
    "    temp = file1.readlines()\n",
    "    for i in range(len(temp)):\n",
    "        temp[i]=float(temp[i][:-1])\n",
    "    norm_dist_100 = np.array(temp)"
   ]
  },
  {
   "cell_type": "code",
   "execution_count": 4,
   "id": "0f921c9e-2e93-4f00-9cba-af3ec2de774a",
   "metadata": {},
   "outputs": [],
   "source": [
    "with open(\"prac2/2.txt\",'r') as file1:\n",
    "    temp = file1.readlines()\n",
    "    for i in range(len(temp)):\n",
    "        temp[i]=float(temp[i][:-1])\n",
    "    norm_dist_10 = np.array(temp)"
   ]
  },
  {
   "cell_type": "code",
   "execution_count": 5,
   "id": "54496d73-f216-4bca-8a03-10c64f358fe0",
   "metadata": {},
   "outputs": [],
   "source": [
    "with open(\"prac2/3.txt\",'r') as file1:\n",
    "    temp = file1.readlines()\n",
    "    for i in range(len(temp)):\n",
    "        temp[i]=float(temp[i][:-1])\n",
    "    unif_dist_100 = np.array(temp)"
   ]
  },
  {
   "cell_type": "code",
   "execution_count": 6,
   "id": "f7ef48c4-2987-41df-9f5e-f327900316ee",
   "metadata": {},
   "outputs": [],
   "source": [
    "with open(\"prac2/1.txt\",'r') as file1:\n",
    "    temp = file1.readlines()\n",
    "    for i in range(len(temp)):\n",
    "        temp[i]=float(temp[i][:-1])\n",
    "    unif_dist_10 = np.array(temp)"
   ]
  },
  {
   "cell_type": "code",
   "execution_count": 7,
   "id": "436debb8-4d32-4a97-93b2-a64e39fff6f1",
   "metadata": {},
   "outputs": [],
   "source": [
    "norm_dist_100_mean, norm_dist_100_std = var_mean(norm_dist_100), var_std(norm_dist_100)\n",
    "norm_dist_10_mean, norm_dist_10_std = var_mean(norm_dist_10), var_std(norm_dist_10)\n",
    "unif_dist_100_mean, unif_dist_100_std = var_mean(unif_dist_100), var_std(unif_dist_100)\n",
    "unif_dist_10_mean, unif_dist_10_std = var_mean(unif_dist_10), var_std(unif_dist_10)"
   ]
  },
  {
   "cell_type": "markdown",
   "id": "09d026b0-1d10-45ad-8ef7-af87f25fa68c",
   "metadata": {},
   "source": [
    "### Расчитываем границы доверительных интервалов для матожидания по правилу нормального распределения"
   ]
  },
  {
   "cell_type": "code",
   "execution_count": 9,
   "id": "983d5a69-5d81-4f1d-94b2-e192bfe9b1df",
   "metadata": {},
   "outputs": [
    {
     "name": "stdout",
     "output_type": "stream",
     "text": [
      "Выборочное среднее для выборки размером 100 из нормальной ГС: 36.18348780342495\n",
      "Для выборки размером 100 из нормальной ГС получен следующие границы интервала для матожидания: [35.92970908524805; 36.437266521601856]\n",
      "Ширина доверительного интервала: 0.5075574363538067\n"
     ]
    }
   ],
   "source": [
    "left_edge_norm_dist_mean_100 = norm_dist_100_mean - 1.96*norm_dist_100_std/np.sqrt(100)\n",
    "right_edge_norm_dist_mean_100 = norm_dist_100_mean + 1.96*norm_dist_100_std/np.sqrt(100)\n",
    "print(f'Выборочное среднее для выборки размером 100 из нормальной ГС: {norm_dist_100_mean}')\n",
    "print(f'Для выборки размером 100 из нормальной ГС получен следующие границы интервала для матожидания: [{left_edge_norm_dist_mean_100}; {right_edge_norm_dist_mean_100}]')\n",
    "print(f'Ширина доверительного интервала: {right_edge_norm_dist_mean_100-left_edge_norm_dist_mean_100}')"
   ]
  },
  {
   "cell_type": "code",
   "execution_count": 10,
   "id": "9efafdb1-1d95-41cf-9c7b-218e078687f2",
   "metadata": {},
   "outputs": [
    {
     "name": "stdout",
     "output_type": "stream",
     "text": [
      "Выборочное среднее для выборки размером 10 из нормальной ГС: 44.93071401753083\n",
      "Для выборки размером 10 из нормальной ГС получен следующие границы интервала для матожидания: [44.30418486512169; 45.55724316993997]\n",
      "Ширина доверительного интервала: 1.253058304818282\n"
     ]
    }
   ],
   "source": [
    "left_edge_norm_dist_mean_10 = norm_dist_10_mean - 1.96*norm_dist_10_std/np.sqrt(10)\n",
    "right_edge_norm_dist_mean_10 = norm_dist_10_mean + 1.96*norm_dist_10_std/np.sqrt(10)\n",
    "print(f'Выборочное среднее для выборки размером 10 из нормальной ГС: {norm_dist_10_mean}')\n",
    "print(f'Для выборки размером 10 из нормальной ГС получен следующие границы интервала для матожидания: [{left_edge_norm_dist_mean_10}; {right_edge_norm_dist_mean_10}]')\n",
    "print(f'Ширина доверительного интервала: {right_edge_norm_dist_mean_10-left_edge_norm_dist_mean_10}')"
   ]
  },
  {
   "cell_type": "code",
   "execution_count": 11,
   "id": "ff2104b8-3471-4626-899f-6fb2d7013cfb",
   "metadata": {},
   "outputs": [
    {
     "name": "stdout",
     "output_type": "stream",
     "text": [
      "Выборочное среднее для выборки размером 100 из равномерной ГС: 46.32073520079301\n",
      "Для выборки размером 100 из равномерной ГС получен следующие границы интервала для матожидания: [45.31200004762797; 47.32947035395805]\n",
      "Ширина доверительного интервала: 2.0174703063300825\n"
     ]
    }
   ],
   "source": [
    "left_edge_unif_dist_mean_100 = unif_dist_100_mean - 1.96*unif_dist_100_std/np.sqrt(100)\n",
    "right_edge_unif_dist_mean_100 = unif_dist_100_mean + 1.96*unif_dist_100_std/np.sqrt(100)\n",
    "print(f'Выборочное среднее для выборки размером 100 из равномерной ГС: {unif_dist_100_mean}')\n",
    "print(f'Для выборки размером 100 из равномерной ГС получен следующие границы интервала для матожидания: [{left_edge_unif_dist_mean_100}; {right_edge_unif_dist_mean_100}]')\n",
    "print(f'Ширина доверительного интервала: {right_edge_unif_dist_mean_100-left_edge_unif_dist_mean_100}')"
   ]
  },
  {
   "cell_type": "code",
   "execution_count": 12,
   "id": "11ac6b6e-140f-46c1-9f9d-bd5a8f2313a2",
   "metadata": {},
   "outputs": [
    {
     "name": "stdout",
     "output_type": "stream",
     "text": [
      "Выборочное среднее для выборки размером 10 из равномерной ГС: 36.18348780342495\n",
      "Для выборки размером 10 из равномерной ГС получен следующие границы интервала для матожидания: [35.38096903230797; 36.98600657454193]\n",
      "Ширина доверительного интервала: 1.6050375422339584\n"
     ]
    }
   ],
   "source": [
    "left_edge_unif_dist_mean_10 = unif_dist_10_mean - 1.96*unif_dist_10_std/np.sqrt(10)\n",
    "right_edge_unif_dist_mean_10 = unif_dist_10_mean + 1.96*unif_dist_10_std/np.sqrt(10)\n",
    "print(f'Выборочное среднее для выборки размером 10 из равномерной ГС: {unif_dist_10_mean}')\n",
    "print(f'Для выборки размером 10 из равномерной ГС получен следующие границы интервала для матожидания: [{left_edge_unif_dist_mean_10}; {right_edge_unif_dist_mean_10}]')\n",
    "print(f'Ширина доверительного интервала: {right_edge_unif_dist_mean_10-left_edge_unif_dist_mean_10}')"
   ]
  },
  {
   "cell_type": "markdown",
   "id": "98ceb2c0-d74c-475c-84fe-700544bc6daf",
   "metadata": {},
   "source": [
    "Нетрудно заметить, что длина выборки влияет на размер доверительного интервала. В случае нормальнораспределённой генеральной совокупности чем больше размер, тем меньше длина доверительного интервала. В случае равномерной генеральной совокупности — наоборот."
   ]
  },
  {
   "cell_type": "markdown",
   "id": "9260bb69-d048-40b8-8ecc-a28effcd4b87",
   "metadata": {},
   "source": [
    "Также видно, что вид распределения также влияет на доверительные интервалы. Размеры доверительного интервала для выборок одной размерности, но разных распределени отличаются. Нормальное распределение имеет меньшие размеры доверительных интервалов в сравнеии с равномерным распределением"
   ]
  },
  {
   "cell_type": "markdown",
   "id": "342b39f8-7f47-45b3-9c1d-1b7b0f7c520e",
   "metadata": {},
   "source": [
    "### Расчитываем границы доверительных интервалов для матожидания по правилу t-распределения"
   ]
  },
  {
   "cell_type": "code",
   "execution_count": 16,
   "id": "22927a97-d243-49e9-9b3a-fe238ba34b4a",
   "metadata": {},
   "outputs": [
    {
     "name": "stdout",
     "output_type": "stream",
     "text": [
      "Выборочное среднее для выборки размером 100 из нормальной ГС: 36.18348780342495\n",
      "Для выборки размером 100 из нормальной ГС получен следующие границы интервала для матожидания: [35.92582471711269; 36.441150889737216]\n",
      "Ширина доверительного интервала: 0.5153261726245262\n"
     ]
    }
   ],
   "source": [
    "left_edge_norm_dist_mean_100 = norm_dist_100_mean - 1.99*norm_dist_100_std/np.sqrt(100)\n",
    "right_edge_norm_dist_mean_100 = norm_dist_100_mean + 1.99*norm_dist_100_std/np.sqrt(100)\n",
    "print(f'Выборочное среднее для выборки размером 100 из нормальной ГС: {norm_dist_100_mean}')\n",
    "print(f'Для выборки размером 100 из нормальной ГС получен следующие границы интервала для матожидания: [{left_edge_norm_dist_mean_100}; {right_edge_norm_dist_mean_100}]')\n",
    "print(f'Ширина доверительного интервала: {right_edge_norm_dist_mean_100-left_edge_norm_dist_mean_100}')"
   ]
  },
  {
   "cell_type": "code",
   "execution_count": 17,
   "id": "7b588223-3d51-452c-be9e-fbf5c2b3b63c",
   "metadata": {},
   "outputs": [
    {
     "name": "stdout",
     "output_type": "stream",
     "text": [
      "Выборочное среднее для выборки размером 10 из нормальной ГС: 44.93071401753083\n",
      "Для выборки размером 10 из нормальной ГС получен следующие границы интервала для матожидания: [44.20828754587539; 45.65314048918627]\n",
      "Ширина доверительного интервала: 1.4448529433108774\n"
     ]
    }
   ],
   "source": [
    "left_edge_norm_dist_mean_10 = norm_dist_10_mean - 2.26*norm_dist_10_std/np.sqrt(10)\n",
    "right_edge_norm_dist_mean_10 = norm_dist_10_mean + 2.26*norm_dist_10_std/np.sqrt(10)\n",
    "print(f'Выборочное среднее для выборки размером 10 из нормальной ГС: {norm_dist_10_mean}')\n",
    "print(f'Для выборки размером 10 из нормальной ГС получен следующие границы интервала для матожидания: [{left_edge_norm_dist_mean_10}; {right_edge_norm_dist_mean_10}]')\n",
    "print(f'Ширина доверительного интервала: {right_edge_norm_dist_mean_10-left_edge_norm_dist_mean_10}')"
   ]
  },
  {
   "cell_type": "code",
   "execution_count": 18,
   "id": "cb79626b-bfe8-4510-a009-42cade8f2a31",
   "metadata": {},
   "outputs": [
    {
     "name": "stdout",
     "output_type": "stream",
     "text": [
      "Выборочное среднее для выборки размером 100 из равномерной ГС: 46.32073520079301\n",
      "Для выборки размером 100 из равномерной ГС получен следующие границы интервала для матожидания: [45.29656022385504; 47.34491017773098]\n",
      "Ширина доверительного интервала: 2.0483499538759418\n"
     ]
    }
   ],
   "source": [
    "left_edge_unif_dist_mean_100 = unif_dist_100_mean - 1.99*unif_dist_100_std/np.sqrt(100)\n",
    "right_edge_unif_dist_mean_100 = unif_dist_100_mean + 1.99*unif_dist_100_std/np.sqrt(100)\n",
    "print(f'Выборочное среднее для выборки размером 100 из равномерной ГС: {unif_dist_100_mean}')\n",
    "print(f'Для выборки размером 100 из равномерной ГС получен следующие границы интервала для матожидания: [{left_edge_unif_dist_mean_100}; {right_edge_unif_dist_mean_100}]')\n",
    "print(f'Ширина доверительного интервала: {right_edge_unif_dist_mean_100-left_edge_unif_dist_mean_100}')"
   ]
  },
  {
   "cell_type": "code",
   "execution_count": 19,
   "id": "664742f3-d0b0-4ade-b2ef-9b9bbd323ec1",
   "metadata": {},
   "outputs": [
    {
     "name": "stdout",
     "output_type": "stream",
     "text": [
      "Выборочное среднее для выборки размером 10 из равномерной ГС: 36.18348780342495\n",
      "Для выборки размером 10 из равномерной ГС получен следующие границы интервала для матожидания: [32.50533706560376; 39.861638541246144]\n",
      "Ширина доверительного интервала: 7.356301475642383\n"
     ]
    }
   ],
   "source": [
    "left_edge_unif_dist_mean_10 = unif_dist_10_mean - 2.26*unif_dist_100_std/np.sqrt(10)\n",
    "right_edge_unif_dist_mean_10 = unif_dist_10_mean + 2.26*unif_dist_100_std/np.sqrt(10)\n",
    "print(f'Выборочное среднее для выборки размером 10 из равномерной ГС: {unif_dist_10_mean}')\n",
    "print(f'Для выборки размером 10 из равномерной ГС получен следующие границы интервала для матожидания: [{left_edge_unif_dist_mean_10}; {right_edge_unif_dist_mean_10}]')\n",
    "print(f'Ширина доверительного интервала: {right_edge_unif_dist_mean_10-left_edge_unif_dist_mean_10}')"
   ]
  },
  {
   "cell_type": "markdown",
   "id": "0e88a419-df1d-4213-a5a9-2ed0d8ef5d75",
   "metadata": {},
   "source": [
    "Существенные различия наблюдаются только для случая, когда мы считаем границы доверительного интервала по правилу нормального распределения и t-распределения для выборки из равномерной ГС размера 10."
   ]
  },
  {
   "cell_type": "markdown",
   "id": "966c4713-03e7-4e3a-af42-6d8d2d6bee35",
   "metadata": {},
   "source": [
    "### Расчитаем границы доверительного интервала для стандартного отклонения по правилу хи-квадрат распределения"
   ]
  },
  {
   "cell_type": "code",
   "execution_count": 22,
   "id": "64ffd81a-499d-44dd-b90e-8c1eca5ddd52",
   "metadata": {},
   "outputs": [
    {
     "name": "stdout",
     "output_type": "stream",
     "text": [
      "Стандартное отклонение для выборки размером 100 из нормальной ГС: 1.2947893784535711\n",
      "Для выборки размером 100 из нормальной ГС получены следующие границы интервала для стандартного отклонения: [1.1368427398073393; 1.5041358554898578]\n",
      "Ширина доверительного интервала: 0.36729311568251855\n"
     ]
    }
   ],
   "source": [
    "left_edge_norm_dist_100_std = norm_dist_100_std*np.sqrt(100-1)/np.sqrt(128.42)\n",
    "right_edge_norm_dist_100_std = norm_dist_100_std*np.sqrt(100-1)/np.sqrt(73.36)\n",
    "print(f'Стандартное отклонение для выборки размером 100 из нормальной ГС: {norm_dist_100_std}')\n",
    "print(f'Для выборки размером 100 из нормальной ГС получены следующие границы интервала для стандартного отклонения: [{left_edge_norm_dist_100_std}; {right_edge_norm_dist_100_std}]')\n",
    "print(f'Ширина доверительного интервала: {right_edge_norm_dist_100_std-left_edge_norm_dist_100_std}')"
   ]
  },
  {
   "cell_type": "code",
   "execution_count": 23,
   "id": "89ec7cba-361e-45b0-a0bc-4168acfcd2f9",
   "metadata": {},
   "outputs": [
    {
     "name": "stdout",
     "output_type": "stream",
     "text": [
      "Стандартное отклонение для выборки размером 10 из нормальной ГС: 1.0108465010753358\n",
      "Для выборки размером 10 из нормальной ГС получены следующие границы интервала для стандартного отклонения: [0.6953464000922515; 1.8455447693804385]\n",
      "Ширина доверительного интервала: 1.1501983692881872\n"
     ]
    }
   ],
   "source": [
    "left_edge_norm_dist_10_std = norm_dist_10_std*np.sqrt(10-1)/np.sqrt(19.02)\n",
    "right_edge_norm_dist_10_std = norm_dist_10_std*np.sqrt(10-1)/np.sqrt(2.7)\n",
    "print(f'Стандартное отклонение для выборки размером 10 из нормальной ГС: {norm_dist_10_std}')\n",
    "print(f'Для выборки размером 10 из нормальной ГС получены следующие границы интервала для стандартного отклонения: [{left_edge_norm_dist_10_std}; {right_edge_norm_dist_10_std}]')\n",
    "print(f'Ширина доверительного интервала: {right_edge_norm_dist_10_std-left_edge_norm_dist_10_std}')"
   ]
  },
  {
   "cell_type": "code",
   "execution_count": 24,
   "id": "f970ebb5-64ba-40a6-a357-72fa1fe38cc1",
   "metadata": {},
   "outputs": [
    {
     "name": "stdout",
     "output_type": "stream",
     "text": [
      "Стандартное отклонение для выборки размером 100 из равномерной ГС: 5.146607924311419\n",
      "Для выборки размером 100 из равномерной ГС получены следующие границы интервала для стандартного отклонения: [4.518791975553852; 5.978731090882689]\n",
      "Ширина доверительного интервала: 1.4599391153288366\n"
     ]
    }
   ],
   "source": [
    "left_edge_unif_dist_100_std = unif_dist_100_std*np.sqrt(100-1)/np.sqrt(128.42)\n",
    "right_edge_unif_dist_100_std = unif_dist_100_std*np.sqrt(100-1)/np.sqrt(73.36)\n",
    "print(f'Стандартное отклонение для выборки размером 100 из равномерной ГС: {unif_dist_100_std}')\n",
    "print(f'Для выборки размером 100 из равномерной ГС получены следующие границы интервала для стандартного отклонения: [{left_edge_unif_dist_100_std}; {right_edge_unif_dist_100_std}]')\n",
    "print(f'Ширина доверительного интервала: {right_edge_unif_dist_100_std-left_edge_unif_dist_100_std}')"
   ]
  },
  {
   "cell_type": "code",
   "execution_count": 25,
   "id": "59c3379b-2d6b-4b8f-89a5-9ac7d3abecf0",
   "metadata": {},
   "outputs": [
    {
     "name": "stdout",
     "output_type": "stream",
     "text": [
      "Стандартное отклонение для выборки размером 10 из равномерной ГС: 1.2947893784535711\n",
      "Для выборки размером 10 из равномерной ГС получены следующие границы интервала для стандартного отклонения: [0.8906665178418374; 2.363951165990381]\n",
      "Ширина доверительного интервала: 1.4732846481485438\n"
     ]
    }
   ],
   "source": [
    "left_edge_unif_dist_10_std = unif_dist_10_std*np.sqrt(10-1)/np.sqrt(19.02)\n",
    "right_edge_unif_dist_10_std = unif_dist_10_std*np.sqrt(10-1)/np.sqrt(2.7)\n",
    "print(f'Стандартное отклонение для выборки размером 10 из равномерной ГС: {unif_dist_10_std}')\n",
    "print(f'Для выборки размером 10 из равномерной ГС получены следующие границы интервала для стандартного отклонения: [{left_edge_unif_dist_10_std}; {right_edge_unif_dist_10_std}]')\n",
    "print(f'Ширина доверительного интервала: {right_edge_unif_dist_10_std-left_edge_unif_dist_10_std}')"
   ]
  },
  {
   "cell_type": "code",
   "execution_count": null,
   "id": "57440d48-7b6c-4b41-a22a-0ffc431767da",
   "metadata": {},
   "outputs": [],
   "source": []
  }
 ],
 "metadata": {
  "kernelspec": {
   "display_name": "Python 3 (ipykernel)",
   "language": "python",
   "name": "python3"
  },
  "language_info": {
   "codemirror_mode": {
    "name": "ipython",
    "version": 3
   },
   "file_extension": ".py",
   "mimetype": "text/x-python",
   "name": "python",
   "nbconvert_exporter": "python",
   "pygments_lexer": "ipython3",
   "version": "3.11.7"
  }
 },
 "nbformat": 4,
 "nbformat_minor": 5
}
